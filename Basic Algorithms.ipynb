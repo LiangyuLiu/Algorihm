{
 "cells": [
  {
   "cell_type": "markdown",
   "metadata": {},
   "source": [
    "# Basic Algorithms\n",
    "This is personal notebook for Udacity Free Course, Intro to Data Structures and Algorithms. Great thanks to Udacity for offering such a good course.\n",
    "\n",
    "Rewrite in Python 3\n",
    "\n",
    "## Overview\n",
    "\n",
    "### Searching and sorting\n",
    "\n",
    "### Maps and Hashing"
   ]
  },
  {
   "cell_type": "code",
   "execution_count": 1,
   "metadata": {},
   "outputs": [
    {
     "name": "stdout",
     "output_type": "stream",
     "text": [
      "3.7.3 (default, Mar 27 2019, 17:13:21) [MSC v.1915 64 bit (AMD64)]\n"
     ]
    }
   ],
   "source": [
    "import sys\n",
    "\n",
    "print(sys.version)"
   ]
  },
  {
   "cell_type": "markdown",
   "metadata": {},
   "source": [
    "# 1. Search and Sorting\n",
    "## 1.1 Binary Search\n",
    "- Implemented to a **sorted** array\n",
    "- O(log)"
   ]
  },
  {
   "cell_type": "code",
   "execution_count": 2,
   "metadata": {},
   "outputs": [
    {
     "name": "stdout",
     "output_type": "stream",
     "text": [
      "0\n",
      "-1\n"
     ]
    }
   ],
   "source": [
    "def binary_search(input_array, value, start_index = 0):\n",
    "    n = len(input_array)\n",
    "    index=int(n/2)\n",
    "    if n > 0:\n",
    "        if value == input_array[index]:\n",
    "            return index + start_index\n",
    "        elif value < input_array[index]:\n",
    "        # Recursive method\n",
    "        # Change the input_array only\n",
    "            return binary_search(input_array[:index], value, start_index)\n",
    "        else:\n",
    "        # Change the start_index and inpt_array\n",
    "            return binary_search(input_array[index+1:], value, start_index + index + 1)\n",
    "    return -1\n",
    "    \n",
    "    \n",
    "test_list = [1,2,3,4,5]\n",
    "test_val1 = 1\n",
    "test_val2 = 6\n",
    "print( binary_search(test_list, test_val1) )\n",
    "print( binary_search(test_list, test_val2) )"
   ]
  },
  {
   "cell_type": "markdown",
   "metadata": {},
   "source": [
    "## 1.2 Recursion\n",
    "- Function calling itself\n",
    "- Input parameters **changes** at each call\n",
    "- Need a **base case** for stopping\n",
    "- Replacement for iterative method\n",
    "\n",
    "#### Fibonacci Sequence\n",
    "- Number in the sequence: Sum of the two prevvious numbers\n"
   ]
  },
  {
   "cell_type": "code",
   "execution_count": 3,
   "metadata": {},
   "outputs": [
    {
     "name": "stdout",
     "output_type": "stream",
     "text": [
      "Should print 2 : 1\n",
      "Should print 34 : 34\n",
      "Should print -1 : -1\n"
     ]
    }
   ],
   "source": [
    "# Output: Number in the Fibonacci Sequence\n",
    "def get_fib(position):\n",
    "    if position == 0 or position == 1:\n",
    "        return position\n",
    "    if position > 1:\n",
    "        return get_fib(position - 2) + get_fib(position - 1)\n",
    "    return -1\n",
    "\n",
    "print( \"Should print 2 :\", get_fib(2) )\n",
    "print( \"Should print 34 :\", get_fib(9) )\n",
    "print( \"Should print -1 :\", get_fib(-2) )\n",
    "\n"
   ]
  },
  {
   "cell_type": "markdown",
   "metadata": {},
   "source": [
    "## 1.3 Sorting\n",
    "\n",
    "### Bubble Sort\n",
    "- Gothrough the array iteratively left to right comparing comsecutive pairs\n",
    "- O(n^2)\n",
    "\n",
    "### Merge Sort\n",
    "- Split in to n/2 pairs\n",
    "- Sort and merge until one ordered array left\n",
    "- O(n*logn)\n",
    " <pre>   \n",
    "         abcdefgh\n",
    "         /      \\\n",
    "     adgh        bcef\n",
    "     /  \\        /  \\\n",
    "   gh    ad    bf    ce\n",
    "   /\\    /\\    /\\    /\\\n",
    "  h  g  d  a  b  f  c  e\n",
    "  \n",
    "### Quick sort\n",
    "- Pick an element as pivot\n",
    "- Reorder as two parts: bigger than the pivot, smaller than the pivot\n",
    "- (Worst Cse) Time Complexity O(n^2) （equals Bubble Sort）\n",
    "- (Average and best case) Time Efficiency O(n*logn)\n",
    "- Space Complexity = O(1) (when inplace)\n"
   ]
  },
  {
   "cell_type": "code",
   "execution_count": 4,
   "metadata": {},
   "outputs": [
    {
     "name": "stdout",
     "output_type": "stream",
     "text": [
      "[1, 3, 5, 5, 10]\n"
     ]
    }
   ],
   "source": [
    "def quicksort(array):\n",
    "    if len(array) <= 1:\n",
    "        return array\n",
    "    pivot = array[len(array)//2]\n",
    "    left = [x for x in array if x < pivot]\n",
    "    middle = [x for x in array if x == pivot]\n",
    "    right = [x for x in array if x > pivot]\n",
    "    return quicksort(left) + middle + quicksort(right)\n",
    "\n",
    "test = [5, 3, 5 ,1, 10]\n",
    "print( quicksort(test) )\n"
   ]
  },
  {
   "cell_type": "markdown",
   "metadata": {},
   "source": [
    "# 2 Maps and Hashing\n",
    "\n",
    "# 2.1 Maps and Sets\n",
    "\n",
    "### Maps \n",
    "\n",
    "- Collection of (key, value) pairs\n",
    "- look up by **key**, get **values**\n",
    "\n",
    "### Sets\n",
    "\n",
    "- No order\n",
    "- No redundant\n",
    "- **Keys** in  a **map** is a **set**\n",
    "\n",
    "#### Dictionary\n",
    "\n",
    "- Map as **dictionary** in Python"
   ]
  },
  {
   "cell_type": "code",
   "execution_count": 5,
   "metadata": {},
   "outputs": [
    {
     "name": "stdout",
     "output_type": "stream",
     "text": [
      "{'North America': {'USA': ['Mountain View', 'Atlanta']}, 'Asia': {'Indian': ['Bangalore'], 'China': ['Shanghai']}}\n",
      "\n",
      "1\n",
      "Atlanta\n",
      "Mountain View\n",
      "2\n",
      "Bangalore-Indian\n",
      "Shanghai-China\n"
     ]
    }
   ],
   "source": [
    "locations = {}\n",
    "locations = {'North America': {'USA':['Mountain View']}}\n",
    "locations['Asia'] = {'Indian':['Bangalore']}\n",
    "locations['North America']['USA'].append('Atlanta')\n",
    "locations['Asia']['China'] = ['Shanghai'] \n",
    "print(locations)\n",
    "print()\n",
    "\"\"\" \n",
    "Print the following (using \"print\").\n",
    "1. A list of all cities in the USA in alphabetic order.\n",
    "2. All cities in Asia, in alphabetic order, next to the name of the country.\n",
    "In your output, label each answer with a number so it looks like this:\n",
    "1\n",
    "American City\n",
    "American City\n",
    "2\n",
    "Asian City - Country\n",
    "Asian City - Country\n",
    "\"\"\"\n",
    "print(\"1\")\n",
    "for city in sorted( locations['North America']['USA']):\n",
    "    print(city)\n",
    "print(\"2\")\n",
    "city_country = []\n",
    "for country,cities in locations['Asia'].items():\n",
    "    for city in cities:\n",
    "        city_country.append(city + \"-\" + country )\n",
    "for item in (city_country):\n",
    "    print(item)"
   ]
  },
  {
   "cell_type": "markdown",
   "metadata": {},
   "source": [
    "## 2.2 Hashing\n",
    "\n",
    "- Take data in constant time search = O(1)\n",
    "- Stacks and Queues can find the \n",
    "\n",
    "## 2.2.1 Hashing Function\n",
    "\n",
    "- Hashing function convert vlaues into hashed values that can be **stored and retrieved easily**\n",
    "- Hashed value: Coded version of the value\n",
    "- Collision when hashed value is the same(Multiple values uses the same backet) then  **Keep a list fot thar hashed value**\n",
    "\n",
    "\n",
    "## 2.2.3 Load Fector\n",
    "\n",
    "- A sense of how full the hash table is.   \n",
    "  \n",
    "    Load Factor = Number of Entries / Number of Buckets.\n",
    "    \n",
    "\n",
    "#### Exercise: Load Factor\n",
    "\n",
    "A coworker comes to you with a hash function that divides an group of values by 100, and uses the remainder as a key. The values are 100 numbers that all multiples of 5. He thinks the function is running slow.\n",
    "\n",
    "**Q1.** What is the load factor?\n",
    "\n",
    "**A1.** The load factor is one since there are both 100 values and 100 buckets.\n",
    "\n",
    "**Q2.** What number would you recommend his function to divide by rather than 100?\n",
    "\n",
    "    a) 87,\n",
    "    b) 107,\n",
    "    c) 125,\n",
    "    d) 1001.\n",
    "\n",
    "**A2.** Lets assume our values are all large than zero. The smallest values they could be are 5, 10, 15,..., 500. \n",
    "\n",
    "    c) 125 is a bad choice this would lead to a lot of collisions since it is also a multiple of 5 (125, 250, 375, 500,... would all have the same hash values for example).\n",
    "    a) 87 is prime so decent 5*87 = 435 so we would still definitely have collisions (5 and 440 would have the same hash value for example).\n",
    "    b) 107 is also prime and 5*107 = 535 so if the numbers are between 5 and 500 we are guaranted no collisions.\n",
    "    c) 1001 is prime and would guarantee no collisions in all the cases that 107 would and more but would result in a much larger hash table."
   ]
  },
  {
   "cell_type": "code",
   "execution_count": null,
   "metadata": {},
   "outputs": [],
   "source": [
    "\"\"\"\n",
    "A simple Hash function that stores strings in a hash table.\n",
    "Hash Value = (AscII value of the First Letter * 100) + (AscII value of the second)\n",
    "\"\"\"\n"
   ]
  }
 ],
 "metadata": {
  "kernelspec": {
   "display_name": "Python 3",
   "language": "python",
   "name": "python3"
  },
  "language_info": {
   "codemirror_mode": {
    "name": "ipython",
    "version": 3
   },
   "file_extension": ".py",
   "mimetype": "text/x-python",
   "name": "python",
   "nbconvert_exporter": "python",
   "pygments_lexer": "ipython3",
   "version": "3.7.3"
  }
 },
 "nbformat": 4,
 "nbformat_minor": 2
}
